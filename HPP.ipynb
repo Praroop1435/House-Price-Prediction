{
 "cells": [
  {
   "cell_type": "markdown",
   "id": "6054548d-985b-46af-b715-54b815aae57d",
   "metadata": {},
   "source": [
    "# Importing Everything Needed"
   ]
  },
  {
   "cell_type": "code",
   "execution_count": 36,
   "id": "be7a129a-73e2-4954-94e1-c9a003b9521b",
   "metadata": {},
   "outputs": [],
   "source": [
    "import numpy as np \n",
    "import pandas as pd \n",
    "import matplotlib.pyplot as plt \n",
    "import seaborn as sns\n",
    "from sklearn.model_selection import train_test_split \n",
    "from sklearn.model_selection import cross_val_score\n",
    "from sklearn.metrics import mean_squared_error, r2_score, mean_absolute_error\n",
    "from sklearn.preprocessing import OrdinalEncoder\n",
    "from sklearn.preprocessing import StandardScaler\n",
    "import pandas as pd\n",
    "from sklearn.preprocessing import LabelEncoder\n",
    "from sklearn.ensemble import RandomForestRegressor, AdaBoostRegressor\n",
    "from sklearn.tree import DecisionTreeRegressor\n",
    "from sklearn.neighbors import KNeighborsRegressor\n",
    "from sklearn.linear_model import LinearRegression\n",
    "pd.pandas.set_option('display.max_columns',None)"
   ]
  },
  {
   "cell_type": "code",
   "execution_count": 2,
   "id": "db7e1c92-a0da-45c7-b07e-527305f3c2a4",
   "metadata": {},
   "outputs": [],
   "source": [
    "df = pd.read_csv(\"india_housing_prices.csv\")\n",
    "df1 = pd.read_csv(\"Housing.csv\")"
   ]
  },
  {
   "cell_type": "code",
   "execution_count": 3,
   "id": "d7414bcc-d6ce-4101-8cef-a81209b858c2",
   "metadata": {},
   "outputs": [
    {
     "data": {
      "text/html": [
       "<div>\n",
       "<style scoped>\n",
       "    .dataframe tbody tr th:only-of-type {\n",
       "        vertical-align: middle;\n",
       "    }\n",
       "\n",
       "    .dataframe tbody tr th {\n",
       "        vertical-align: top;\n",
       "    }\n",
       "\n",
       "    .dataframe thead th {\n",
       "        text-align: right;\n",
       "    }\n",
       "</style>\n",
       "<table border=\"1\" class=\"dataframe\">\n",
       "  <thead>\n",
       "    <tr style=\"text-align: right;\">\n",
       "      <th></th>\n",
       "      <th>price</th>\n",
       "      <th>area</th>\n",
       "      <th>bedrooms</th>\n",
       "      <th>bathrooms</th>\n",
       "      <th>stories</th>\n",
       "      <th>mainroad</th>\n",
       "      <th>guestroom</th>\n",
       "      <th>basement</th>\n",
       "      <th>hotwaterheating</th>\n",
       "      <th>airconditioning</th>\n",
       "      <th>parking</th>\n",
       "      <th>prefarea</th>\n",
       "      <th>furnishingstatus</th>\n",
       "    </tr>\n",
       "  </thead>\n",
       "  <tbody>\n",
       "    <tr>\n",
       "      <th>0</th>\n",
       "      <td>13300000</td>\n",
       "      <td>7420</td>\n",
       "      <td>4</td>\n",
       "      <td>2</td>\n",
       "      <td>3</td>\n",
       "      <td>yes</td>\n",
       "      <td>no</td>\n",
       "      <td>no</td>\n",
       "      <td>no</td>\n",
       "      <td>yes</td>\n",
       "      <td>2</td>\n",
       "      <td>yes</td>\n",
       "      <td>furnished</td>\n",
       "    </tr>\n",
       "    <tr>\n",
       "      <th>1</th>\n",
       "      <td>12250000</td>\n",
       "      <td>8960</td>\n",
       "      <td>4</td>\n",
       "      <td>4</td>\n",
       "      <td>4</td>\n",
       "      <td>yes</td>\n",
       "      <td>no</td>\n",
       "      <td>no</td>\n",
       "      <td>no</td>\n",
       "      <td>yes</td>\n",
       "      <td>3</td>\n",
       "      <td>no</td>\n",
       "      <td>furnished</td>\n",
       "    </tr>\n",
       "    <tr>\n",
       "      <th>2</th>\n",
       "      <td>12250000</td>\n",
       "      <td>9960</td>\n",
       "      <td>3</td>\n",
       "      <td>2</td>\n",
       "      <td>2</td>\n",
       "      <td>yes</td>\n",
       "      <td>no</td>\n",
       "      <td>yes</td>\n",
       "      <td>no</td>\n",
       "      <td>no</td>\n",
       "      <td>2</td>\n",
       "      <td>yes</td>\n",
       "      <td>semi-furnished</td>\n",
       "    </tr>\n",
       "    <tr>\n",
       "      <th>3</th>\n",
       "      <td>12215000</td>\n",
       "      <td>7500</td>\n",
       "      <td>4</td>\n",
       "      <td>2</td>\n",
       "      <td>2</td>\n",
       "      <td>yes</td>\n",
       "      <td>no</td>\n",
       "      <td>yes</td>\n",
       "      <td>no</td>\n",
       "      <td>yes</td>\n",
       "      <td>3</td>\n",
       "      <td>yes</td>\n",
       "      <td>furnished</td>\n",
       "    </tr>\n",
       "    <tr>\n",
       "      <th>4</th>\n",
       "      <td>11410000</td>\n",
       "      <td>7420</td>\n",
       "      <td>4</td>\n",
       "      <td>1</td>\n",
       "      <td>2</td>\n",
       "      <td>yes</td>\n",
       "      <td>yes</td>\n",
       "      <td>yes</td>\n",
       "      <td>no</td>\n",
       "      <td>yes</td>\n",
       "      <td>2</td>\n",
       "      <td>no</td>\n",
       "      <td>furnished</td>\n",
       "    </tr>\n",
       "  </tbody>\n",
       "</table>\n",
       "</div>"
      ],
      "text/plain": [
       "      price  area  bedrooms  bathrooms  stories mainroad guestroom basement  \\\n",
       "0  13300000  7420         4          2        3      yes        no       no   \n",
       "1  12250000  8960         4          4        4      yes        no       no   \n",
       "2  12250000  9960         3          2        2      yes        no      yes   \n",
       "3  12215000  7500         4          2        2      yes        no      yes   \n",
       "4  11410000  7420         4          1        2      yes       yes      yes   \n",
       "\n",
       "  hotwaterheating airconditioning  parking prefarea furnishingstatus  \n",
       "0              no             yes        2      yes        furnished  \n",
       "1              no             yes        3       no        furnished  \n",
       "2              no              no        2      yes   semi-furnished  \n",
       "3              no             yes        3      yes        furnished  \n",
       "4              no             yes        2       no        furnished  "
      ]
     },
     "execution_count": 3,
     "metadata": {},
     "output_type": "execute_result"
    }
   ],
   "source": [
    "df1.head()"
   ]
  },
  {
   "cell_type": "code",
   "execution_count": 4,
   "id": "778f339a-ab1d-4dc3-99c8-d81b21f01deb",
   "metadata": {},
   "outputs": [
    {
     "data": {
      "text/html": [
       "<div>\n",
       "<style scoped>\n",
       "    .dataframe tbody tr th:only-of-type {\n",
       "        vertical-align: middle;\n",
       "    }\n",
       "\n",
       "    .dataframe tbody tr th {\n",
       "        vertical-align: top;\n",
       "    }\n",
       "\n",
       "    .dataframe thead th {\n",
       "        text-align: right;\n",
       "    }\n",
       "</style>\n",
       "<table border=\"1\" class=\"dataframe\">\n",
       "  <thead>\n",
       "    <tr style=\"text-align: right;\">\n",
       "      <th></th>\n",
       "      <th>ID</th>\n",
       "      <th>State</th>\n",
       "      <th>City</th>\n",
       "      <th>Locality</th>\n",
       "      <th>Property_Type</th>\n",
       "      <th>BHK</th>\n",
       "      <th>Size_in_SqFt</th>\n",
       "      <th>Price_in_Lakhs</th>\n",
       "      <th>Price_per_SqFt</th>\n",
       "      <th>Year_Built</th>\n",
       "      <th>Furnished_Status</th>\n",
       "      <th>Floor_No</th>\n",
       "      <th>Total_Floors</th>\n",
       "      <th>Age_of_Property</th>\n",
       "      <th>Nearby_Schools</th>\n",
       "      <th>Nearby_Hospitals</th>\n",
       "      <th>Public_Transport_Accessibility</th>\n",
       "      <th>Parking_Space</th>\n",
       "      <th>Security</th>\n",
       "      <th>Amenities</th>\n",
       "      <th>Facing</th>\n",
       "      <th>Owner_Type</th>\n",
       "      <th>Availability_Status</th>\n",
       "    </tr>\n",
       "  </thead>\n",
       "  <tbody>\n",
       "    <tr>\n",
       "      <th>0</th>\n",
       "      <td>1</td>\n",
       "      <td>Tamil Nadu</td>\n",
       "      <td>Chennai</td>\n",
       "      <td>Locality_84</td>\n",
       "      <td>Apartment</td>\n",
       "      <td>1</td>\n",
       "      <td>4740</td>\n",
       "      <td>489.76</td>\n",
       "      <td>0.10</td>\n",
       "      <td>1990</td>\n",
       "      <td>Furnished</td>\n",
       "      <td>22</td>\n",
       "      <td>1</td>\n",
       "      <td>35</td>\n",
       "      <td>10</td>\n",
       "      <td>3</td>\n",
       "      <td>High</td>\n",
       "      <td>No</td>\n",
       "      <td>No</td>\n",
       "      <td>Playground, Gym, Garden, Pool, Clubhouse</td>\n",
       "      <td>West</td>\n",
       "      <td>Owner</td>\n",
       "      <td>Ready_to_Move</td>\n",
       "    </tr>\n",
       "    <tr>\n",
       "      <th>1</th>\n",
       "      <td>2</td>\n",
       "      <td>Maharashtra</td>\n",
       "      <td>Pune</td>\n",
       "      <td>Locality_490</td>\n",
       "      <td>Independent House</td>\n",
       "      <td>3</td>\n",
       "      <td>2364</td>\n",
       "      <td>195.52</td>\n",
       "      <td>0.08</td>\n",
       "      <td>2008</td>\n",
       "      <td>Unfurnished</td>\n",
       "      <td>21</td>\n",
       "      <td>20</td>\n",
       "      <td>17</td>\n",
       "      <td>8</td>\n",
       "      <td>1</td>\n",
       "      <td>Low</td>\n",
       "      <td>No</td>\n",
       "      <td>Yes</td>\n",
       "      <td>Playground, Clubhouse, Pool, Gym, Garden</td>\n",
       "      <td>North</td>\n",
       "      <td>Builder</td>\n",
       "      <td>Under_Construction</td>\n",
       "    </tr>\n",
       "    <tr>\n",
       "      <th>2</th>\n",
       "      <td>3</td>\n",
       "      <td>Punjab</td>\n",
       "      <td>Ludhiana</td>\n",
       "      <td>Locality_167</td>\n",
       "      <td>Apartment</td>\n",
       "      <td>2</td>\n",
       "      <td>3642</td>\n",
       "      <td>183.79</td>\n",
       "      <td>0.05</td>\n",
       "      <td>1997</td>\n",
       "      <td>Semi-furnished</td>\n",
       "      <td>19</td>\n",
       "      <td>27</td>\n",
       "      <td>28</td>\n",
       "      <td>9</td>\n",
       "      <td>8</td>\n",
       "      <td>Low</td>\n",
       "      <td>Yes</td>\n",
       "      <td>No</td>\n",
       "      <td>Clubhouse, Pool, Playground, Gym</td>\n",
       "      <td>South</td>\n",
       "      <td>Broker</td>\n",
       "      <td>Ready_to_Move</td>\n",
       "    </tr>\n",
       "    <tr>\n",
       "      <th>3</th>\n",
       "      <td>4</td>\n",
       "      <td>Rajasthan</td>\n",
       "      <td>Jodhpur</td>\n",
       "      <td>Locality_393</td>\n",
       "      <td>Independent House</td>\n",
       "      <td>2</td>\n",
       "      <td>2741</td>\n",
       "      <td>300.29</td>\n",
       "      <td>0.11</td>\n",
       "      <td>1991</td>\n",
       "      <td>Furnished</td>\n",
       "      <td>21</td>\n",
       "      <td>26</td>\n",
       "      <td>34</td>\n",
       "      <td>5</td>\n",
       "      <td>7</td>\n",
       "      <td>High</td>\n",
       "      <td>Yes</td>\n",
       "      <td>Yes</td>\n",
       "      <td>Playground, Clubhouse, Gym, Pool, Garden</td>\n",
       "      <td>North</td>\n",
       "      <td>Builder</td>\n",
       "      <td>Ready_to_Move</td>\n",
       "    </tr>\n",
       "  </tbody>\n",
       "</table>\n",
       "</div>"
      ],
      "text/plain": [
       "   ID        State      City      Locality      Property_Type  BHK  \\\n",
       "0   1   Tamil Nadu   Chennai   Locality_84          Apartment    1   \n",
       "1   2  Maharashtra      Pune  Locality_490  Independent House    3   \n",
       "2   3       Punjab  Ludhiana  Locality_167          Apartment    2   \n",
       "3   4    Rajasthan   Jodhpur  Locality_393  Independent House    2   \n",
       "\n",
       "   Size_in_SqFt  Price_in_Lakhs  Price_per_SqFt  Year_Built Furnished_Status  \\\n",
       "0          4740          489.76            0.10        1990        Furnished   \n",
       "1          2364          195.52            0.08        2008      Unfurnished   \n",
       "2          3642          183.79            0.05        1997   Semi-furnished   \n",
       "3          2741          300.29            0.11        1991        Furnished   \n",
       "\n",
       "   Floor_No  Total_Floors  Age_of_Property  Nearby_Schools  Nearby_Hospitals  \\\n",
       "0        22             1               35              10                 3   \n",
       "1        21            20               17               8                 1   \n",
       "2        19            27               28               9                 8   \n",
       "3        21            26               34               5                 7   \n",
       "\n",
       "  Public_Transport_Accessibility Parking_Space Security  \\\n",
       "0                           High            No       No   \n",
       "1                            Low            No      Yes   \n",
       "2                            Low           Yes       No   \n",
       "3                           High           Yes      Yes   \n",
       "\n",
       "                                  Amenities Facing Owner_Type  \\\n",
       "0  Playground, Gym, Garden, Pool, Clubhouse   West      Owner   \n",
       "1  Playground, Clubhouse, Pool, Gym, Garden  North    Builder   \n",
       "2          Clubhouse, Pool, Playground, Gym  South     Broker   \n",
       "3  Playground, Clubhouse, Gym, Pool, Garden  North    Builder   \n",
       "\n",
       "  Availability_Status  \n",
       "0       Ready_to_Move  \n",
       "1  Under_Construction  \n",
       "2       Ready_to_Move  \n",
       "3       Ready_to_Move  "
      ]
     },
     "execution_count": 4,
     "metadata": {},
     "output_type": "execute_result"
    }
   ],
   "source": [
    "df.head(4)"
   ]
  },
  {
   "cell_type": "code",
   "execution_count": 5,
   "id": "3ccd5076-08c8-49f9-a09c-01b7c271a54c",
   "metadata": {},
   "outputs": [],
   "source": [
    "df.drop(columns=[\"ID\"], inplace=True)"
   ]
  },
  {
   "cell_type": "code",
   "execution_count": 6,
   "id": "1027701b-8df7-40e1-b50f-572b019e096f",
   "metadata": {},
   "outputs": [
    {
     "data": {
      "text/plain": [
       "(250000, 22)"
      ]
     },
     "execution_count": 6,
     "metadata": {},
     "output_type": "execute_result"
    }
   ],
   "source": [
    "df.shape"
   ]
  },
  {
   "cell_type": "code",
   "execution_count": 7,
   "id": "ac18bb35-75a2-49c1-bded-a456b5c944e4",
   "metadata": {},
   "outputs": [
    {
     "name": "stdout",
     "output_type": "stream",
     "text": [
      "<class 'pandas.core.frame.DataFrame'>\n",
      "RangeIndex: 250000 entries, 0 to 249999\n",
      "Data columns (total 22 columns):\n",
      " #   Column                          Non-Null Count   Dtype  \n",
      "---  ------                          --------------   -----  \n",
      " 0   State                           250000 non-null  object \n",
      " 1   City                            250000 non-null  object \n",
      " 2   Locality                        250000 non-null  object \n",
      " 3   Property_Type                   250000 non-null  object \n",
      " 4   BHK                             250000 non-null  int64  \n",
      " 5   Size_in_SqFt                    250000 non-null  int64  \n",
      " 6   Price_in_Lakhs                  250000 non-null  float64\n",
      " 7   Price_per_SqFt                  250000 non-null  float64\n",
      " 8   Year_Built                      250000 non-null  int64  \n",
      " 9   Furnished_Status                250000 non-null  object \n",
      " 10  Floor_No                        250000 non-null  int64  \n",
      " 11  Total_Floors                    250000 non-null  int64  \n",
      " 12  Age_of_Property                 250000 non-null  int64  \n",
      " 13  Nearby_Schools                  250000 non-null  int64  \n",
      " 14  Nearby_Hospitals                250000 non-null  int64  \n",
      " 15  Public_Transport_Accessibility  250000 non-null  object \n",
      " 16  Parking_Space                   250000 non-null  object \n",
      " 17  Security                        250000 non-null  object \n",
      " 18  Amenities                       250000 non-null  object \n",
      " 19  Facing                          250000 non-null  object \n",
      " 20  Owner_Type                      250000 non-null  object \n",
      " 21  Availability_Status             250000 non-null  object \n",
      "dtypes: float64(2), int64(8), object(12)\n",
      "memory usage: 42.0+ MB\n"
     ]
    }
   ],
   "source": [
    "df.info()"
   ]
  },
  {
   "cell_type": "markdown",
   "id": "c2847815-72d1-4ed9-9515-2990f792c594",
   "metadata": {},
   "source": [
    "# Year_Built is ready to use no feature Engineering"
   ]
  },
  {
   "cell_type": "code",
   "execution_count": 8,
   "id": "b8cf7167-baa8-4154-a76f-82c7dcb132ef",
   "metadata": {
    "scrolled": true
   },
   "outputs": [
    {
     "name": "stdout",
     "output_type": "stream",
     "text": [
      "\n",
      "Column: State\n",
      "State\n",
      "Odisha         12681\n",
      "Tamil Nadu     12629\n",
      "West Bengal    12622\n",
      "Gujarat        12578\n",
      "Delhi          12552\n",
      "Name: count, dtype: int64\n",
      "\n",
      "Column: City\n",
      "City\n",
      "Coimbatore    6461\n",
      "Ahmedabad     6411\n",
      "Silchar       6404\n",
      "Durgapur      6387\n",
      "Cuttack       6358\n",
      "Name: count, dtype: int64\n",
      "\n",
      "Column: Locality\n",
      "Locality\n",
      "Locality_296    567\n",
      "Locality_316    562\n",
      "Locality_297    561\n",
      "Locality_313    560\n",
      "Locality_321    558\n",
      "Name: count, dtype: int64\n",
      "\n",
      "Column: Property_Type\n",
      "Property_Type\n",
      "Villa                83744\n",
      "Independent House    83300\n",
      "Apartment            82956\n",
      "Name: count, dtype: int64\n",
      "\n",
      "Column: BHK\n",
      "BHK\n",
      "1    50196\n",
      "5    50134\n",
      "3    50067\n",
      "2    49815\n",
      "4    49788\n",
      "Name: count, dtype: int64\n",
      "\n",
      "Column: Size_in_SqFt\n",
      "Size_in_SqFt\n",
      "2098    86\n",
      "4775    84\n",
      "4473    80\n",
      "1642    80\n",
      "810     80\n",
      "Name: count, dtype: int64\n",
      "\n",
      "Column: Price_in_Lakhs\n",
      "Price_in_Lakhs\n",
      "137.92    16\n",
      "423.58    16\n",
      "292.91    16\n",
      "40.22     16\n",
      "42.76     16\n",
      "Name: count, dtype: int64\n",
      "\n",
      "Column: Price_per_SqFt\n",
      "Price_per_SqFt\n",
      "0.05    14196\n",
      "0.04    14181\n",
      "0.03    14113\n",
      "0.09    14087\n",
      "0.08    14079\n",
      "Name: count, dtype: int64\n",
      "\n",
      "Column: Year_Built\n",
      "Year_Built\n",
      "2023    7568\n",
      "2004    7526\n",
      "2015    7487\n",
      "2007    7468\n",
      "1999    7456\n",
      "Name: count, dtype: int64\n",
      "\n",
      "Column: Furnished_Status\n",
      "Furnished_Status\n",
      "Unfurnished       83408\n",
      "Semi-furnished    83374\n",
      "Furnished         83218\n",
      "Name: count, dtype: int64\n",
      "\n",
      "Column: Floor_No\n",
      "Floor_No\n",
      "20    8283\n",
      "0     8203\n",
      "17    8197\n",
      "5     8174\n",
      "6     8166\n",
      "Name: count, dtype: int64\n",
      "\n",
      "Column: Total_Floors\n",
      "Total_Floors\n",
      "24    8520\n",
      "5     8501\n",
      "30    8485\n",
      "3     8439\n",
      "26    8432\n",
      "Name: count, dtype: int64\n",
      "\n",
      "Column: Age_of_Property\n",
      "Age_of_Property\n",
      "2     7568\n",
      "21    7526\n",
      "10    7487\n",
      "18    7468\n",
      "26    7456\n",
      "Name: count, dtype: int64\n",
      "\n",
      "Column: Nearby_Schools\n",
      "Nearby_Schools\n",
      "1     25360\n",
      "8     25290\n",
      "10    25237\n",
      "3     25045\n",
      "5     25023\n",
      "Name: count, dtype: int64\n",
      "\n",
      "Column: Nearby_Hospitals\n",
      "Nearby_Hospitals\n",
      "4    25168\n",
      "5    25102\n",
      "6    25082\n",
      "1    25075\n",
      "9    25014\n",
      "Name: count, dtype: int64\n",
      "\n",
      "Column: Public_Transport_Accessibility\n",
      "Public_Transport_Accessibility\n",
      "High      83705\n",
      "Low       83287\n",
      "Medium    83008\n",
      "Name: count, dtype: int64\n",
      "\n",
      "Column: Parking_Space\n",
      "Parking_Space\n",
      "No     125456\n",
      "Yes    124544\n",
      "Name: count, dtype: int64\n",
      "\n",
      "Column: Security\n",
      "Security\n",
      "Yes    125233\n",
      "No     124767\n",
      "Name: count, dtype: int64\n",
      "\n",
      "Column: Amenities\n",
      "Amenities\n",
      "Pool          10218\n",
      "Clubhouse     10010\n",
      "Garden        10006\n",
      "Gym            9938\n",
      "Playground     9934\n",
      "Name: count, dtype: int64\n",
      "\n",
      "Column: Facing\n",
      "Facing\n",
      "West     62757\n",
      "North    62637\n",
      "South    62337\n",
      "East     62269\n",
      "Name: count, dtype: int64\n",
      "\n",
      "Column: Owner_Type\n",
      "Owner_Type\n",
      "Broker     83479\n",
      "Owner      83268\n",
      "Builder    83253\n",
      "Name: count, dtype: int64\n",
      "\n",
      "Column: Availability_Status\n",
      "Availability_Status\n",
      "Under_Construction    125035\n",
      "Ready_to_Move         124965\n",
      "Name: count, dtype: int64\n"
     ]
    }
   ],
   "source": [
    "for col in df.columns:\n",
    "    print(f\"\\nColumn: {col}\")\n",
    "    print(df[col].value_counts(dropna=False).head())"
   ]
  },
  {
   "cell_type": "markdown",
   "id": "0d08ef95-40e6-4749-808d-96828f530eec",
   "metadata": {},
   "source": [
    "## Used LabelEncode on State,Facing and Owner_tye Columns\n"
   ]
  },
  {
   "cell_type": "code",
   "execution_count": 9,
   "id": "dc8c443d-eace-4908-aeb1-d51a2de36f0f",
   "metadata": {},
   "outputs": [],
   "source": [
    "LE = LabelEncoder()"
   ]
  },
  {
   "cell_type": "code",
   "execution_count": 10,
   "id": "5f18f92d-3728-4228-8a36-66aef6f957fc",
   "metadata": {},
   "outputs": [],
   "source": [
    "df[\"State\"] = LE.fit_transform(df[\"State\"])"
   ]
  },
  {
   "cell_type": "code",
   "execution_count": 11,
   "id": "a34b6545-9124-45c7-9d92-31e7841996ca",
   "metadata": {},
   "outputs": [],
   "source": [
    "df[\"Facing\"] = LE.fit_transform(df[\"Facing\"])"
   ]
  },
  {
   "cell_type": "code",
   "execution_count": 12,
   "id": "58ad0543-c4bd-4029-a152-18b806659706",
   "metadata": {},
   "outputs": [],
   "source": [
    "df[\"Owner_Type\"] = LE.fit_transform(df[\"Owner_Type\"])"
   ]
  },
  {
   "cell_type": "markdown",
   "id": "f7bf1fde-8f78-4383-8781-291fd23c335a",
   "metadata": {},
   "source": [
    "# Target Encoding"
   ]
  },
  {
   "cell_type": "code",
   "execution_count": 13,
   "id": "bf5dac7c-0264-4a59-b8f4-5be290b82026",
   "metadata": {},
   "outputs": [],
   "source": [
    "city_avg = df.groupby('City')['Price_per_SqFt'].mean()\n",
    "df['City_encoded'] = df['City'].map(city_avg)\n",
    "df.drop(columns=['City'], inplace = True)"
   ]
  },
  {
   "cell_type": "markdown",
   "id": "d47a5845-c0c6-4549-8f15-03ab242f1536",
   "metadata": {},
   "source": [
    "# One Hot Enccoding \"Availability Status\""
   ]
  },
  {
   "cell_type": "code",
   "execution_count": 14,
   "id": "3402a08e-4940-432e-87a3-027ed1d21c7b",
   "metadata": {},
   "outputs": [],
   "source": [
    "df['Is_Ready_to_Move'] = df['Availability_Status'].apply(lambda x: 1 if x == 'Ready_to_Move' else 0)\n"
   ]
  },
  {
   "cell_type": "code",
   "execution_count": 15,
   "id": "6ea2dc04-c854-4f86-a5cf-8c11ede3fc06",
   "metadata": {},
   "outputs": [],
   "source": [
    "df.drop(columns=[\"Availability_Status\"], inplace=True)"
   ]
  },
  {
   "cell_type": "code",
   "execution_count": 16,
   "id": "1299f0ff-d1eb-477f-8bb3-38fb955d9910",
   "metadata": {},
   "outputs": [],
   "source": [
    "df['Locality'] = df['Locality'].str.split(\"_\").apply(lambda x: x[1]).astype(int)"
   ]
  },
  {
   "cell_type": "code",
   "execution_count": 17,
   "id": "036c27c7-535b-4160-96b8-4a8626de84eb",
   "metadata": {},
   "outputs": [],
   "source": [
    "cols_to_encode = ['Property_Type', 'Furnished_Status', 'Public_Transport_Accessibility','Security','Parking_Space']"
   ]
  },
  {
   "cell_type": "code",
   "execution_count": 18,
   "id": "9aea4828-1925-4d27-a203-a241c66f45e2",
   "metadata": {},
   "outputs": [],
   "source": [
    "encoder = OrdinalEncoder(categories=[\n",
    "    ['Apartment', 'Independent House', 'Villa'],        # Property_Type\n",
    "    ['Unfurnished', 'Semi-furnished', 'Furnished'],     # Furnished_Status\n",
    "    ['Low', 'Medium', 'High'],                          # Public_Transport_Accessibility\n",
    "    ['No', 'Yes'],                                      # Security\n",
    "    ['No', 'Yes']                                       # Parking_Space\n",
    "])\n"
   ]
  },
  {
   "cell_type": "code",
   "execution_count": 19,
   "id": "1a1b7ee1-5a2e-4b34-b099-140b63177bb5",
   "metadata": {},
   "outputs": [],
   "source": [
    "df[cols_to_encode] = encoder.fit_transform(df[cols_to_encode])\n"
   ]
  },
  {
   "cell_type": "code",
   "execution_count": 20,
   "id": "e663c96b-d609-4180-88eb-4f734b7d4a56",
   "metadata": {},
   "outputs": [],
   "source": [
    "from sklearn.preprocessing import MultiLabelBinarizer\n",
    "import pandas as pd\n",
    "\n",
    "# Step 1: Clean and split the comma-separated strings into lists\n",
    "df['Amenities'] = df['Amenities'].apply(lambda x: [i.strip() for i in x.split(',') if i.strip() != ''])\n",
    "\n",
    "# Step 2: Initialize and fit the MultiLabelBinarizer\n",
    "mlb = MultiLabelBinarizer()\n",
    "amenities_encoded = mlb.fit_transform(df['Amenities'])\n",
    "\n",
    "# Step 3: Create a new DataFrame with binary columns for each amenity\n",
    "amenities_df = pd.DataFrame(amenities_encoded, columns=mlb.classes_, index=df.index)\n",
    "\n",
    "# Step 4: Concatenate the new binary columns back to the original DataFrame\n",
    "df = pd.concat([df, amenities_df], axis=1)\n",
    "\n",
    "df.drop('Amenities', axis=1, inplace=True)"
   ]
  },
  {
   "cell_type": "code",
   "execution_count": 21,
   "id": "78a1c6bb-fb0d-4684-b208-ef31ad180184",
   "metadata": {},
   "outputs": [],
   "source": [
    "X_train,X_test,Y_train,Y_test=train_test_split(df.drop(columns=['Price_in_Lakhs']),df['Price_in_Lakhs'],test_size=0.2,random_state=42)"
   ]
  },
  {
   "cell_type": "code",
   "execution_count": 22,
   "id": "f64f7cc8-0f23-4d43-a246-715cb6082a52",
   "metadata": {},
   "outputs": [
    {
     "name": "stderr",
     "output_type": "stream",
     "text": [
      "C:\\Users\\anand\\AppData\\Local\\Temp\\ipykernel_8384\\2163986655.py:3: UserWarning: \n",
      "\n",
      "`distplot` is a deprecated function and will be removed in seaborn v0.14.0.\n",
      "\n",
      "Please adapt your code to use either `displot` (a figure-level function with\n",
      "similar flexibility) or `histplot` (an axes-level function for histograms).\n",
      "\n",
      "For a guide to updating your code to use the new functions, please see\n",
      "https://gist.github.com/mwaskom/de44147ed2974457ad6372750bbe5751\n",
      "\n",
      "  sns.distplot(Y_train)\n"
     ]
    },
    {
     "data": {
      "image/png": "[encoded data removed]",
      "text/plain": [
       "<Figure size 1400x400 with 1 Axes>"
      ]
     },
     "metadata": {},
     "output_type": "display_data"
    }
   ],
   "source": [
    "plt.figure(figsize=(14,4))\n",
    "plt.subplot(121)\n",
    "sns.distplot(Y_train)\n",
    "plt.show()"
   ]
  },
  {
   "cell_type": "code",
   "execution_count": 23,
   "id": "df5044ee-3737-4204-b1b0-405383659bfb",
   "metadata": {},
   "outputs": [
    {
     "data": {
      "text/plain": [
       "np.float64(0.007770727715464974)"
      ]
     },
     "execution_count": 23,
     "metadata": {},
     "output_type": "execute_result"
    }
   ],
   "source": [
    "Y_train.skew()"
   ]
  },
  {
   "cell_type": "code",
   "execution_count": 24,
   "id": "bd739ff6-c6bf-46ee-9e00-187ffdf7fa24",
   "metadata": {},
   "outputs": [],
   "source": [
    "SS=StandardScaler()\n",
    "X_train=SS.fit_transform(X_train)\n",
    "X_test=SS.transform(X_test)"
   ]
  },
  {
   "cell_type": "code",
   "execution_count": 25,
   "id": "6ffb9578-c419-47a4-b897-cd8cf82b1d66",
   "metadata": {},
   "outputs": [],
   "source": [
    "import tensorflow\n",
    "from tensorflow import keras\n",
    "from tensorflow.keras import Sequential\n",
    "from tensorflow.keras.layers import Dense"
   ]
  },
  {
   "cell_type": "code",
   "execution_count": 26,
   "id": "541aefc3-6eb6-408b-8254-f9eb6ed3c8c7",
   "metadata": {},
   "outputs": [
    {
     "name": "stderr",
     "output_type": "stream",
     "text": [
      "C:\\Users\\anand\\AppData\\Roaming\\Python\\Python310\\site-packages\\keras\\src\\layers\\core\\dense.py:93: UserWarning: Do not pass an `input_shape`/`input_dim` argument to a layer. When using Sequential models, prefer using an `Input(shape)` object as the first layer in the model instead.\n",
      "  super().__init__(activity_regularizer=activity_regularizer, **kwargs)\n"
     ]
    }
   ],
   "source": [
    "model=Sequential()\n",
    "model.add(Dense(10,activation='relu',input_shape=(X_train.shape[1],)))\n",
    "model.add(Dense(5,activation='relu'))\n",
    "model.add(Dense(1,activation='linear'))"
   ]
  },
  {
   "cell_type": "code",
   "execution_count": 27,
   "id": "b905ffb9-1c99-441a-b184-5bffd27360c6",
   "metadata": {},
   "outputs": [
    {
     "data": {
      "text/html": [
       "<pre style=\"white-space:pre;overflow-x:auto;line-height:normal;font-family:Menlo,'DejaVu Sans Mono',consolas,'Courier New',monospace\"><span style=\"font-weight: bold\">Model: \"sequential\"</span>\n",
       "</pre>\n"
      ],
      "text/plain": [
       "\u001b[1mModel: \"sequential\"\u001b[0m\n"
      ]
     },
     "metadata": {},
     "output_type": "display_data"
    },
    {
     "data": {
      "text/html": [
       "<pre style=\"white-space:pre;overflow-x:auto;line-height:normal;font-family:Menlo,'DejaVu Sans Mono',consolas,'Courier New',monospace\">┏━━━━━━━━━━━━━━━━━━━━━━━━━━━━━━━━━━━━━━┳━━━━━━━━━━━━━━━━━━━━━━━━━━━━━┳━━━━━━━━━━━━━━━━━┓\n",
       "┃<span style=\"font-weight: bold\"> Layer (type)                         </span>┃<span style=\"font-weight: bold\"> Output Shape                </span>┃<span style=\"font-weight: bold\">         Param # </span>┃\n",
       "┡━━━━━━━━━━━━━━━━━━━━━━━━━━━━━━━━━━━━━━╇━━━━━━━━━━━━━━━━━━━━━━━━━━━━━╇━━━━━━━━━━━━━━━━━┩\n",
       "│ dense (<span style=\"color: #0087ff; text-decoration-color: #0087ff\">Dense</span>)                        │ (<span style=\"color: #00d7ff; text-decoration-color: #00d7ff\">None</span>, <span style=\"color: #00af00; text-decoration-color: #00af00\">10</span>)                  │             <span style=\"color: #00af00; text-decoration-color: #00af00\">260</span> │\n",
       "├──────────────────────────────────────┼─────────────────────────────┼─────────────────┤\n",
       "│ dense_1 (<span style=\"color: #0087ff; text-decoration-color: #0087ff\">Dense</span>)                      │ (<span style=\"color: #00d7ff; text-decoration-color: #00d7ff\">None</span>, <span style=\"color: #00af00; text-decoration-color: #00af00\">5</span>)                   │              <span style=\"color: #00af00; text-decoration-color: #00af00\">55</span> │\n",
       "├──────────────────────────────────────┼─────────────────────────────┼─────────────────┤\n",
       "│ dense_2 (<span style=\"color: #0087ff; text-decoration-color: #0087ff\">Dense</span>)                      │ (<span style=\"color: #00d7ff; text-decoration-color: #00d7ff\">None</span>, <span style=\"color: #00af00; text-decoration-color: #00af00\">1</span>)                   │               <span style=\"color: #00af00; text-decoration-color: #00af00\">6</span> │\n",
       "└──────────────────────────────────────┴─────────────────────────────┴─────────────────┘\n",
       "</pre>\n"
      ],
      "text/plain": [
       "┏━━━━━━━━━━━━━━━━━━━━━━━━━━━━━━━━━━━━━━┳━━━━━━━━━━━━━━━━━━━━━━━━━━━━━┳━━━━━━━━━━━━━━━━━┓\n",
       "┃\u001b[1m \u001b[0m\u001b[1mLayer (type)                        \u001b[0m\u001b[1m \u001b[0m┃\u001b[1m \u001b[0m\u001b[1mOutput Shape               \u001b[0m\u001b[1m \u001b[0m┃\u001b[1m \u001b[0m\u001b[1m        Param #\u001b[0m\u001b[1m \u001b[0m┃\n",
       "┡━━━━━━━━━━━━━━━━━━━━━━━━━━━━━━━━━━━━━━╇━━━━━━━━━━━━━━━━━━━━━━━━━━━━━╇━━━━━━━━━━━━━━━━━┩\n",
       "│ dense (\u001b[38;5;33mDense\u001b[0m)                        │ (\u001b[38;5;45mNone\u001b[0m, \u001b[38;5;34m10\u001b[0m)                  │             \u001b[38;5;34m260\u001b[0m │\n",
       "├──────────────────────────────────────┼─────────────────────────────┼─────────────────┤\n",
       "│ dense_1 (\u001b[38;5;33mDense\u001b[0m)                      │ (\u001b[38;5;45mNone\u001b[0m, \u001b[38;5;34m5\u001b[0m)                   │              \u001b[38;5;34m55\u001b[0m │\n",
       "├──────────────────────────────────────┼─────────────────────────────┼─────────────────┤\n",
       "│ dense_2 (\u001b[38;5;33mDense\u001b[0m)                      │ (\u001b[38;5;45mNone\u001b[0m, \u001b[38;5;34m1\u001b[0m)                   │               \u001b[38;5;34m6\u001b[0m │\n",
       "└──────────────────────────────────────┴─────────────────────────────┴─────────────────┘\n"
      ]
     },
     "metadata": {},
     "output_type": "display_data"
    },
    {
     "data": {
      "text/html": [
       "<pre style=\"white-space:pre;overflow-x:auto;line-height:normal;font-family:Menlo,'DejaVu Sans Mono',consolas,'Courier New',monospace\"><span style=\"font-weight: bold\"> Total params: </span><span style=\"color: #00af00; text-decoration-color: #00af00\">321</span> (1.25 KB)\n",
       "</pre>\n"
      ],
      "text/plain": [
       "\u001b[1m Total params: \u001b[0m\u001b[38;5;34m321\u001b[0m (1.25 KB)\n"
      ]
     },
     "metadata": {},
     "output_type": "display_data"
    },
    {
     "data": {
      "text/html": [
       "<pre style=\"white-space:pre;overflow-x:auto;line-height:normal;font-family:Menlo,'DejaVu Sans Mono',consolas,'Courier New',monospace\"><span style=\"font-weight: bold\"> Trainable params: </span><span style=\"color: #00af00; text-decoration-color: #00af00\">321</span> (1.25 KB)\n",
       "</pre>\n"
      ],
      "text/plain": [
       "\u001b[1m Trainable params: \u001b[0m\u001b[38;5;34m321\u001b[0m (1.25 KB)\n"
      ]
     },
     "metadata": {},
     "output_type": "display_data"
    },
    {
     "data": {
      "text/html": [
       "<pre style=\"white-space:pre;overflow-x:auto;line-height:normal;font-family:Menlo,'DejaVu Sans Mono',consolas,'Courier New',monospace\"><span style=\"font-weight: bold\"> Non-trainable params: </span><span style=\"color: #00af00; text-decoration-color: #00af00\">0</span> (0.00 B)\n",
       "</pre>\n"
      ],
      "text/plain": [
       "\u001b[1m Non-trainable params: \u001b[0m\u001b[38;5;34m0\u001b[0m (0.00 B)\n"
      ]
     },
     "metadata": {},
     "output_type": "display_data"
    }
   ],
   "source": [
    "model.summary()"
   ]
  },
  {
   "cell_type": "code",
   "execution_count": 28,
   "id": "fefe4bad-1850-431b-9c7a-4e03c86a16c3",
   "metadata": {},
   "outputs": [],
   "source": [
    "model.compile(loss='mean_absolute_error',optimizer='Adam')"
   ]
  },
  {
   "cell_type": "code",
   "execution_count": 29,
   "id": "6f6c1bd5-d56d-43ed-b906-70a9eef97e96",
   "metadata": {},
   "outputs": [
    {
     "name": "stdout",
     "output_type": "stream",
     "text": [
      "Epoch 1/10\n",
      "\u001b[1m5000/5000\u001b[0m \u001b[32m━━━━━━━━━━━━━━━━━━━━\u001b[0m\u001b[37m\u001b[0m \u001b[1m7s\u001b[0m 1ms/step - loss: 164.8007 - val_loss: 82.2148\n",
      "Epoch 2/10\n",
      "\u001b[1m5000/5000\u001b[0m \u001b[32m━━━━━━━━━━━━━━━━━━━━\u001b[0m\u001b[37m\u001b[0m \u001b[1m7s\u001b[0m 1ms/step - loss: 64.6390 - val_loss: 28.5642\n",
      "Epoch 3/10\n",
      "\u001b[1m5000/5000\u001b[0m \u001b[32m━━━━━━━━━━━━━━━━━━━━\u001b[0m\u001b[37m\u001b[0m \u001b[1m7s\u001b[0m 1ms/step - loss: 25.8362 - val_loss: 20.2919\n",
      "Epoch 4/10\n",
      "\u001b[1m5000/5000\u001b[0m \u001b[32m━━━━━━━━━━━━━━━━━━━━\u001b[0m\u001b[37m\u001b[0m \u001b[1m7s\u001b[0m 1ms/step - loss: 19.1531 - val_loss: 17.1740\n",
      "Epoch 5/10\n",
      "\u001b[1m5000/5000\u001b[0m \u001b[32m━━━━━━━━━━━━━━━━━━━━\u001b[0m\u001b[37m\u001b[0m \u001b[1m7s\u001b[0m 1ms/step - loss: 16.6747 - val_loss: 15.5060\n",
      "Epoch 6/10\n",
      "\u001b[1m5000/5000\u001b[0m \u001b[32m━━━━━━━━━━━━━━━━━━━━\u001b[0m\u001b[37m\u001b[0m \u001b[1m7s\u001b[0m 1ms/step - loss: 15.3590 - val_loss: 14.6819\n",
      "Epoch 7/10\n",
      "\u001b[1m5000/5000\u001b[0m \u001b[32m━━━━━━━━━━━━━━━━━━━━\u001b[0m\u001b[37m\u001b[0m \u001b[1m7s\u001b[0m 1ms/step - loss: 14.6260 - val_loss: 14.1978\n",
      "Epoch 8/10\n",
      "\u001b[1m5000/5000\u001b[0m \u001b[32m━━━━━━━━━━━━━━━━━━━━\u001b[0m\u001b[37m\u001b[0m \u001b[1m7s\u001b[0m 1ms/step - loss: 14.0284 - val_loss: 13.7621\n",
      "Epoch 9/10\n",
      "\u001b[1m5000/5000\u001b[0m \u001b[32m━━━━━━━━━━━━━━━━━━━━\u001b[0m\u001b[37m\u001b[0m \u001b[1m7s\u001b[0m 1ms/step - loss: 13.7268 - val_loss: 13.3949\n",
      "Epoch 10/10\n",
      "\u001b[1m5000/5000\u001b[0m \u001b[32m━━━━━━━━━━━━━━━━━━━━\u001b[0m\u001b[37m\u001b[0m \u001b[1m7s\u001b[0m 1ms/step - loss: 13.3670 - val_loss: 13.0843\n"
     ]
    }
   ],
   "source": [
    "history = model.fit(X_train,Y_train,epochs=10,validation_split=0.2)"
   ]
  },
  {
   "cell_type": "code",
   "execution_count": 30,
   "id": "cbc43714-f0c0-4b9b-808b-70ec1c8d2b92",
   "metadata": {},
   "outputs": [
    {
     "name": "stdout",
     "output_type": "stream",
     "text": [
      "\u001b[1m1563/1563\u001b[0m \u001b[32m━━━━━━━━━━━━━━━━━━━━\u001b[0m\u001b[37m\u001b[0m \u001b[1m1s\u001b[0m 727us/step\n"
     ]
    },
    {
     "data": {
      "text/plain": [
       "0.9854118357849141"
      ]
     },
     "execution_count": 30,
     "metadata": {},
     "output_type": "execute_result"
    }
   ],
   "source": [
    "y_pred =model.predict(X_test)\n",
    "r2_score(Y_test, y_pred)"
   ]
  },
  {
   "cell_type": "code",
   "execution_count": 31,
   "id": "6f0ec53d-5425-4e73-929b-4327ea50e98d",
   "metadata": {},
   "outputs": [
    {
     "data": {
      "text/plain": [
       "290.82242849503945"
      ]
     },
     "execution_count": 31,
     "metadata": {},
     "output_type": "execute_result"
    }
   ],
   "source": [
    "mean_squared_error(Y_test, y_pred)"
   ]
  },
  {
   "cell_type": "code",
   "execution_count": 32,
   "id": "daf1e62e-030f-496b-bff3-a5279dcf059a",
   "metadata": {},
   "outputs": [],
   "source": [
    "y_pred = y_pred.argmax(axis=-1)"
   ]
  },
  {
   "cell_type": "code",
   "execution_count": null,
   "id": "9e1bafa5-72b8-420f-84db-e5b65e110449",
   "metadata": {},
   "outputs": [],
   "source": []
  },
  {
   "cell_type": "code",
   "execution_count": 33,
   "id": "9ca3ce31-e757-4379-b884-b837e27b1bc5",
   "metadata": {},
   "outputs": [
    {
     "data": {
      "text/plain": [
       "[<matplotlib.lines.Line2D at 0x194190ca560>]"
      ]
     },
     "execution_count": 33,
     "metadata": {},
     "output_type": "execute_result"
    },
    {
     "data": {
      "image/png": "[encoded data removed]",
      "text/plain": [
       "<Figure size 640x480 with 1 Axes>"
      ]
     },
     "metadata": {},
     "output_type": "display_data"
    }
   ],
   "source": [
    "import matplotlib.pyplot as plt\n",
    "\n",
    "plt.plot(history.history['loss'])\n",
    "plt.plot(history.history['val_loss'])"
   ]
  },
  {
   "cell_type": "code",
   "execution_count": 34,
   "id": "316bfac6-b143-4c4c-8fe8-d0e49fd987dd",
   "metadata": {},
   "outputs": [],
   "source": [
    "# Define models\n",
    "models = {\n",
    "    \"Linear Regression\": LinearRegression(),\n",
    "    \"Gradient Boosting\": AdaBoostRegressor(n_estimators=200, random_state=42),\n",
    "    \"KNN\": KNeighborsRegressor(n_neighbors=5),\n",
    "    \"Decision Tree\": DecisionTreeRegressor(max_depth=10, random_state=42),\n",
    "    \"Random Forest\": RandomForestRegressor(n_estimators=200, max_depth=10, random_state=42)\n",
    "}\n",
    "\n",
    "# Store evaluation metrics\n",
    "evaluation_metrics = []\n",
    "mae_scores = {}\n",
    "mse_scores = {}\n",
    "r2_scores = {}\n"
   ]
  },
  {
   "cell_type": "code",
   "execution_count": 37,
   "id": "b1f47075-79c8-4567-8ee3-ad08ad2d602d",
   "metadata": {},
   "outputs": [],
   "source": [
    "for name, model in models.items():\n",
    "    model.fit(X_train, Y_train)\n",
    "    Y_pred = model.predict(X_test)\n",
    "    \n",
    "    mae = mean_absolute_error(Y_test, Y_pred)\n",
    "    mse = mean_squared_error(Y_test, Y_pred)\n",
    "    r2 = r2_score(Y_test, Y_pred)\n",
    "    \n",
    "    mae_scores[name] = mae\n",
    "    mse_scores[name] = mse\n",
    "    r2_scores[name] = r2\n",
    "    \n",
    "    evaluation_metrics.append({\n",
    "        \"Model\": name,\n",
    "        \"MAE\": mae,\n",
    "        \"MSE\": mse,\n",
    "        \"R2 Score\": r2\n",
    "    })\n"
   ]
  },
  {
   "cell_type": "code",
   "execution_count": 38,
   "id": "795464f3-126b-483c-bc24-efe9cacb4f99",
   "metadata": {},
   "outputs": [
    {
     "name": "stdout",
     "output_type": "stream",
     "text": [
      "               Model         MAE           MSE  R2 Score\n",
      "0  Linear Regression   81.139188  10163.602973  0.490176\n",
      "1  Gradient Boosting   40.508673   2294.409304  0.884908\n",
      "2                KNN  106.622589  16476.772012  0.173496\n",
      "3      Decision Tree    9.649113    160.392815  0.991954\n",
      "4      Random Forest    7.786782     99.516846  0.995008\n"
     ]
    }
   ],
   "source": [
    "# Create DataFrame for results\n",
    "results_df = pd.DataFrame(evaluation_metrics)\n",
    "print(results_df)"
   ]
  },
  {
   "cell_type": "code",
   "execution_count": 40,
   "id": "5e38bf81-b65d-446c-ade3-0495152ffa3a",
   "metadata": {},
   "outputs": [
    {
     "name": "stderr",
     "output_type": "stream",
     "text": [
      "2025-08-01 05:03:19.412 Thread 'MainThread': missing ScriptRunContext! This warning can be ignored when running in bare mode.\n",
      "2025-08-01 05:03:19.413 Thread 'MainThread': missing ScriptRunContext! This warning can be ignored when running in bare mode.\n",
      "2025-08-01 05:03:19.414 Thread 'MainThread': missing ScriptRunContext! This warning can be ignored when running in bare mode.\n",
      "2025-08-01 05:03:19.883 Thread 'MainThread': missing ScriptRunContext! This warning can be ignored when running in bare mode.\n",
      "2025-08-01 05:03:19.883 Thread 'MainThread': missing ScriptRunContext! This warning can be ignored when running in bare mode.\n",
      "2025-08-01 05:03:19.908 Thread 'MainThread': missing ScriptRunContext! This warning can be ignored when running in bare mode.\n"
     ]
    }
   ],
   "source": [
    "import streamlit as st\n",
    "import pandas as pd\n",
    "\n",
    "st.write(\"Here's our first attempt at using data to create a table:\")\n",
    "st.write(df)\n"
   ]
  },
  {
   "cell_type": "code",
   "execution_count": null,
   "id": "68605c63-5671-455f-a718-8546dd8801d0",
   "metadata": {},
   "outputs": [],
   "source": []
  }
 ],
 "metadata": {
  "kernelspec": {
   "display_name": "Python 3 (ipykernel)",
   "language": "python",
   "name": "python3"
  },
  "language_info": {
   "codemirror_mode": {
    "name": "ipython",
    "version": 3
   },
   "file_extension": ".py",
   "mimetype": "text/x-python",
   "name": "python",
   "nbconvert_exporter": "python",
   "pygments_lexer": "ipython3",
   "version": "3.10.11"
  }
 },
 "nbformat": 4,
 "nbformat_minor": 5
}
